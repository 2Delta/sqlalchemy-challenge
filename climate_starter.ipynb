{
 "cells": [
  {
   "cell_type": "code",
   "execution_count": 1,
   "metadata": {},
   "outputs": [],
   "source": [
    "%matplotlib inline\n",
    "from matplotlib import style\n",
    "style.use('fivethirtyeight')\n",
    "import matplotlib.pyplot as plt"
   ]
  },
  {
   "cell_type": "code",
   "execution_count": 2,
   "metadata": {},
   "outputs": [],
   "source": [
    "import numpy as np\n",
    "import pandas as pd\n",
    "import datetime as dt"
   ]
  },
  {
   "cell_type": "markdown",
   "metadata": {},
   "source": [
    "# Reflect Tables into SQLAlchemy ORM"
   ]
  },
  {
   "cell_type": "code",
   "execution_count": 3,
   "metadata": {},
   "outputs": [],
   "source": [
    "# Python SQL toolkit and Object Relational Mapper\n",
    "import sqlalchemy\n",
    "from sqlalchemy.ext.automap import automap_base\n",
    "from sqlalchemy.orm import Session\n",
    "from sqlalchemy import create_engine, func"
   ]
  },
  {
   "cell_type": "code",
   "execution_count": 10,
   "metadata": {},
   "outputs": [],
   "source": [
    "# create engine to hawaii.sqlite\n",
    "engine = create_engine(\"sqlite:///resources/hawaii.sqlite\")"
   ]
  },
  {
   "cell_type": "code",
   "execution_count": 11,
   "metadata": {},
   "outputs": [],
   "source": [
    "# reflect an existing database into a new model\n",
    "db = automap_base()\n",
    "\n",
    "# reflect the tables\n",
    "db.prepare(engine, reflect=True)"
   ]
  },
  {
   "cell_type": "code",
   "execution_count": 12,
   "metadata": {},
   "outputs": [
    {
     "data": {
      "text/plain": [
       "['measurement', 'station']"
      ]
     },
     "execution_count": 12,
     "metadata": {},
     "output_type": "execute_result"
    }
   ],
   "source": [
    "# View all of the classes that automap found\n",
    "db.classes.keys()"
   ]
  },
  {
   "cell_type": "code",
   "execution_count": 13,
   "metadata": {},
   "outputs": [],
   "source": [
    "# Save references to each table\n",
    "measurement = db.classes.measurement\n",
    "station = db.classes.station"
   ]
  },
  {
   "cell_type": "code",
   "execution_count": 14,
   "metadata": {},
   "outputs": [],
   "source": [
    "# Create our session (link) from Python to the DB\n",
    "session = Session(engine)"
   ]
  },
  {
   "cell_type": "markdown",
   "metadata": {},
   "source": [
    "# Exploratory Precipitation Analysis"
   ]
  },
  {
   "cell_type": "code",
   "execution_count": null,
   "metadata": {},
   "outputs": [],
   "source": [
    "# Find the most recent date in the data set."
   ]
  },
  {
   "cell_type": "code",
   "execution_count": 26,
   "metadata": {},
   "outputs": [],
   "source": [
    "# Design a query to retrieve the last 12 months of precipitation data and plot the results. \n",
    "# Starting from the most recent data point in the database. \n",
    "date_last_query = session.query(measurement.date).order_by(measurement.date.desc()).first()\n",
    "date_last = date_last_query[0]\n",
    "date_last = dt.datetime.strptime(date_last, '%Y-%m-%d').date()\n",
    "\n",
    "# Calculate the date one year from the last date in data set.\n",
    "date_last_yr = date_last - dt.timedelta(days=365)\n",
    "date_last_yr = date_last_yr.strftime('%Y-%m-%d')\n",
    "\n",
    "# Perform a query to retrieve the data and precipitation scores\n",
    "prcp_12m_query = session.query(measurement.date, measurement.prcp)\\\n",
    "                    .filter(measurement.date <= date_last)\\\n",
    "                    .filter(measurement.date >= date_last_yr).all()\n",
    "\n",
    "\n",
    "# Save the query results as a Pandas DataFrame and set the index to the date column\n",
    "prcp_12m_df = pd.DataFrame(prcp_12m_query, columns=['date', 'precipitation']).set_index('date')\n",
    "\n",
    "# Sort the dataframe by date\n",
    "prcp_12m_df_sorted =  prcp_12m_df.sort_index()\n",
    "\n",
    "# Use Pandas Plotting with Matplotlib to plot the data\n",
    "pd_bar_prcp_12m = prcp_12m_df_sorted.plot\n",
    "\n",
    "# ex Present the bar chart\n",
    "plt.show()\n",
    "\n"
   ]
  },
  {
   "cell_type": "code",
   "execution_count": null,
   "metadata": {},
   "outputs": [],
   "source": [
    "# Use Pandas to calcualte the summary statistics for the precipitation data\n",
    "prcp_st_summary = prcp_12m_df.describe()\n",
    "prcp_st_summary"
   ]
  },
  {
   "cell_type": "markdown",
   "metadata": {},
   "source": [
    "# Exploratory Station Analysis"
   ]
  },
  {
   "cell_type": "code",
   "execution_count": null,
   "metadata": {},
   "outputs": [],
   "source": [
    "# Design a query to calculate the total number stations in the dataset\n",
    "no_station = session.query(Measurement.station).distinct().count()\n",
    "print(f'There are {no_station} stations available in this dataset')"
   ]
  },
  {
   "cell_type": "code",
   "execution_count": null,
   "metadata": {},
   "outputs": [],
   "source": [
    "# Design a query to find the most active stations (i.e. what stations have the most rows?)\n",
    "most_active = session.query(Measurement.station, Station.name, func.count(Measurement.station))\\\n",
    "                                .group_by(Measurement.station)\\\n",
    "                                .order_by(func.count(Measurement.station).desc())\\\n",
    "                                .first()\n",
    "\n",
    "print(f'The most active station is station id {most_active[0]}: {most_active[1]}')\n",
    "\n",
    "# List the stations and the counts in descending order.\n",
    "active_station = session.query(Measurement.station, Station.name, func.count(Measurement.station))\\\n",
    "                                .filter(Measurement.station == Station.station)\\\n",
    "                                .group_by(Measurement.station)\\\n",
    "                                .order_by(func.count(Measurement.station).desc())\\\n",
    "                                .all()\n",
    "\n",
    "# ex Save the query results as a Pandas DataFrame and set the index to the date column\n",
    "active_station_df = pd.DataFrame(active_station, columns=['station_id', 'name', 'no. of data'])\n",
    "\n",
    "\n",
    "active_station_df"
   ]
  },
  {
   "cell_type": "code",
   "execution_count": null,
   "metadata": {},
   "outputs": [],
   "source": [
    "# Using the most active station id from the previous query, calculate the lowest, highest, and average temperature.\n",
    "act_stn_summary = session.query(Measurement.station, Station.name, func.min(Measurement.tobs), \n",
    "                                func.max(Measurement.tobs), func.avg(Measurement.tobs))\\\n",
    "                                .filter(Measurement.station == Station.station)\\\n",
    "                                .group_by(Measurement.station)\\\n",
    "                                .order_by(func.count(Measurement.station).desc())\\\n",
    "                                .filter(Measurement.station == most_active[0])\n",
    "\n",
    "# Save the query results as a Pandas DataFrame and set the index to the date column\n",
    "act_stn_summary_df = pd.DataFrame(act_stn_summary, columns=['station_id', 'name', 'min temp', 'max temp', 'avg temp'])\n",
    "\n",
    "act_stn_summary_df"
   ]
  },
  {
   "cell_type": "code",
   "execution_count": null,
   "metadata": {},
   "outputs": [],
   "source": [
    "# Using the most active station id\n",
    "# Query the last 12 months of temperature observation data for this station and plot the results as a histogram\n",
    "st_12m = session.query(Measurement.tobs)\\\n",
    "                    .filter(Measurement.date <= last_date_str)\\\n",
    "                    .filter(Measurement.date >= yr_ago_date_str)\\\n",
    "                    .filter(Measurement.station == most_active[0])\\\n",
    "                    .all()\n",
    "\n",
    "# ex Save the query results as a Pandas DataFrame and set the index to the date column\n",
    "st_12m_df = pd.DataFrame(st_12m, columns=['tobs'])\n",
    "\n",
    "# ex Plot the results as a histogram\n",
    "st_12m_df_plot = st_12m_df.plot.hist(bins=12, figsize=(7,5), color='indianred', alpha=0.8)\n",
    "\n",
    "# ex Set x/y label, title\n",
    "plt.title(f'TOBs for {most_active[0]}: {most_active[1]}\\n(Date: {yr_ago_date_str} to {last_date_str})', fontweight = 'bold', size=14)\n",
    "plt.xlabel('Temperature (F)', fontweight = 'bold', size=13)\n",
    "plt.ylabel('Frequency',fontweight = 'bold', size=13)\n",
    "st_12m_df_plot.set_facecolor('gainsboro')\n",
    "plt.tight_layout()\n",
    "\n",
    "# ex Save bar graph to Images folder\n",
    "st_12m_df_plot.figure.savefig('Images/hist_stUSC00519281.png')\n",
    "\n",
    "# ex Present the bar chart\n",
    "plt.show()\n",
    "\n",
    "# ex To close pyplot\n",
    "plt.close()"
   ]
  },
  {
   "cell_type": "markdown",
   "metadata": {},
   "source": [
    "# Close session"
   ]
  },
  {
   "cell_type": "code",
   "execution_count": null,
   "metadata": {},
   "outputs": [],
   "source": [
    "# Close Session\n",
    "session.close()"
   ]
  },
  {
   "cell_type": "code",
   "execution_count": null,
   "metadata": {},
   "outputs": [],
   "source": []
  }
 ],
 "metadata": {
  "anaconda-cloud": {},
  "kernel_info": {
   "name": "python3"
  },
  "kernelspec": {
   "display_name": "Python 3",
   "language": "python",
   "name": "python3"
  },
  "language_info": {
   "codemirror_mode": {
    "name": "ipython",
    "version": 3
   },
   "file_extension": ".py",
   "mimetype": "text/x-python",
   "name": "python",
   "nbconvert_exporter": "python",
   "pygments_lexer": "ipython3",
   "version": "3.8.8"
  },
  "nteract": {
   "version": "0.12.3"
  },
  "varInspector": {
   "cols": {
    "lenName": 16,
    "lenType": 16,
    "lenVar": 40
   },
   "kernels_config": {
    "python": {
     "delete_cmd_postfix": "",
     "delete_cmd_prefix": "del ",
     "library": "var_list.py",
     "varRefreshCmd": "print(var_dic_list())"
    },
    "r": {
     "delete_cmd_postfix": ") ",
     "delete_cmd_prefix": "rm(",
     "library": "var_list.r",
     "varRefreshCmd": "cat(var_dic_list()) "
    }
   },
   "types_to_exclude": [
    "module",
    "function",
    "builtin_function_or_method",
    "instance",
    "_Feature"
   ],
   "window_display": false
  }
 },
 "nbformat": 4,
 "nbformat_minor": 2
}
